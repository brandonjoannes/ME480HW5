{
 "cells": [
  {
   "cell_type": "code",
   "execution_count": 1,
   "metadata": {},
   "outputs": [
    {
     "name": "stdout",
     "output_type": "stream",
     "text": [
      "Requirement already satisfied: solidpython in a:\\anaconda3\\lib\\site-packages (0.4.4)\n",
      "Requirement already satisfied: regex<2020.0,>=2019.4 in a:\\anaconda3\\lib\\site-packages (from solidpython) (2019.11.1)\n",
      "Requirement already satisfied: euclid3<0.2.0,>=0.1.0 in a:\\anaconda3\\lib\\site-packages (from solidpython) (0.1)\n",
      "Requirement already satisfied: PrettyTable==0.7.2 in a:\\anaconda3\\lib\\site-packages (from solidpython) (0.7.2)\n",
      "Requirement already satisfied: pypng<0.0.20,>=0.0.19 in a:\\anaconda3\\lib\\site-packages (from solidpython) (0.0.19)\n",
      "Note: you may need to restart the kernel to use updated packages.\n"
     ]
    }
   ],
   "source": [
    "pip install solidpython\n"
   ]
  },
  {
   "cell_type": "code",
   "execution_count": 2,
   "metadata": {},
   "outputs": [
    {
     "name": "stdout",
     "output_type": "stream",
     "text": [
      "Requirement already satisfied: viewscad in a:\\anaconda3\\lib\\site-packages (0.2.0)\n",
      "Requirement already satisfied: jupyter in a:\\anaconda3\\lib\\site-packages (from viewscad) (1.0.0)\n",
      "Requirement already satisfied: ipywidgets in a:\\anaconda3\\lib\\site-packages (from viewscad) (7.5.1)\n",
      "Requirement already satisfied: pythreejs in a:\\anaconda3\\lib\\site-packages (from viewscad) (2.1.1)\n",
      "Requirement already satisfied: solidpython in a:\\anaconda3\\lib\\site-packages (from viewscad) (0.4.4)\n",
      "Requirement already satisfied: jupyterlab in a:\\anaconda3\\lib\\site-packages (from viewscad) (1.1.4)\n",
      "Requirement already satisfied: jupyter-console in a:\\anaconda3\\lib\\site-packages (from jupyter->viewscad) (6.0.0)\n",
      "Requirement already satisfied: notebook in a:\\anaconda3\\lib\\site-packages (from jupyter->viewscad) (6.0.1)\n",
      "Requirement already satisfied: ipykernel in a:\\anaconda3\\lib\\site-packages (from jupyter->viewscad) (5.1.2)\n",
      "Requirement already satisfied: nbconvert in a:\\anaconda3\\lib\\site-packages (from jupyter->viewscad) (5.6.0)\n",
      "Requirement already satisfied: qtconsole in a:\\anaconda3\\lib\\site-packages (from jupyter->viewscad) (4.5.5)\n",
      "Requirement already satisfied: nbformat>=4.2.0 in a:\\anaconda3\\lib\\site-packages (from ipywidgets->viewscad) (4.4.0)\n",
      "Requirement already satisfied: ipython>=4.0.0; python_version >= \"3.3\" in a:\\anaconda3\\lib\\site-packages (from ipywidgets->viewscad) (7.8.0)\n",
      "Requirement already satisfied: traitlets>=4.3.1 in a:\\anaconda3\\lib\\site-packages (from ipywidgets->viewscad) (4.3.3)\n",
      "Requirement already satisfied: widgetsnbextension~=3.5.0 in a:\\anaconda3\\lib\\site-packages (from ipywidgets->viewscad) (3.5.1)\n",
      "Requirement already satisfied: numpy in a:\\anaconda3\\lib\\site-packages (from pythreejs->viewscad) (1.16.5)\n",
      "Requirement already satisfied: ipydatawidgets>=1.1.1 in a:\\anaconda3\\lib\\site-packages (from pythreejs->viewscad) (4.0.1)\n",
      "Requirement already satisfied: regex<2020.0,>=2019.4 in a:\\anaconda3\\lib\\site-packages (from solidpython->viewscad) (2019.11.1)\n",
      "Requirement already satisfied: euclid3<0.2.0,>=0.1.0 in a:\\anaconda3\\lib\\site-packages (from solidpython->viewscad) (0.1)\n",
      "Requirement already satisfied: pypng<0.0.20,>=0.0.19 in a:\\anaconda3\\lib\\site-packages (from solidpython->viewscad) (0.0.19)\n",
      "Requirement already satisfied: PrettyTable==0.7.2 in a:\\anaconda3\\lib\\site-packages (from solidpython->viewscad) (0.7.2)\n",
      "Requirement already satisfied: tornado!=6.0.0,!=6.0.1,!=6.0.2 in a:\\anaconda3\\lib\\site-packages (from jupyterlab->viewscad) (6.0.3)\n",
      "Requirement already satisfied: jupyterlab_server~=1.0.0 in a:\\anaconda3\\lib\\site-packages (from jupyterlab->viewscad) (1.0.6)\n",
      "Requirement already satisfied: jinja2>=2.10 in a:\\anaconda3\\lib\\site-packages (from jupyterlab->viewscad) (2.10.3)\n",
      "Requirement already satisfied: jupyter_client in a:\\anaconda3\\lib\\site-packages (from jupyter-console->jupyter->viewscad) (5.3.3)\n",
      "Requirement already satisfied: prompt_toolkit<2.1.0,>=2.0.0 in a:\\anaconda3\\lib\\site-packages (from jupyter-console->jupyter->viewscad) (2.0.10)\n",
      "Requirement already satisfied: pygments in a:\\anaconda3\\lib\\site-packages (from jupyter-console->jupyter->viewscad) (2.4.2)\n",
      "Requirement already satisfied: prometheus-client in a:\\anaconda3\\lib\\site-packages (from notebook->jupyter->viewscad) (0.7.1)\n",
      "Requirement already satisfied: jupyter-core>=4.4.0 in a:\\anaconda3\\lib\\site-packages (from notebook->jupyter->viewscad) (4.5.0)\n",
      "Requirement already satisfied: pyzmq>=17 in a:\\anaconda3\\lib\\site-packages (from notebook->jupyter->viewscad) (18.1.0)\n",
      "Requirement already satisfied: Send2Trash in a:\\anaconda3\\lib\\site-packages (from notebook->jupyter->viewscad) (1.5.0)\n",
      "Requirement already satisfied: ipython-genutils in a:\\anaconda3\\lib\\site-packages (from notebook->jupyter->viewscad) (0.2.0)\n",
      "Requirement already satisfied: terminado>=0.8.1 in a:\\anaconda3\\lib\\site-packages (from notebook->jupyter->viewscad) (0.8.2)\n",
      "Requirement already satisfied: defusedxml in a:\\anaconda3\\lib\\site-packages (from nbconvert->jupyter->viewscad) (0.6.0)\n",
      "Requirement already satisfied: bleach in a:\\anaconda3\\lib\\site-packages (from nbconvert->jupyter->viewscad) (3.1.0)\n",
      "Requirement already satisfied: testpath in a:\\anaconda3\\lib\\site-packages (from nbconvert->jupyter->viewscad) (0.4.2)\n",
      "Requirement already satisfied: pandocfilters>=1.4.1 in a:\\anaconda3\\lib\\site-packages (from nbconvert->jupyter->viewscad) (1.4.2)\n",
      "Requirement already satisfied: mistune<2,>=0.8.1 in a:\\anaconda3\\lib\\site-packages (from nbconvert->jupyter->viewscad) (0.8.4)\n",
      "Requirement already satisfied: entrypoints>=0.2.2 in a:\\anaconda3\\lib\\site-packages (from nbconvert->jupyter->viewscad) (0.3)\n",
      "Requirement already satisfied: jsonschema!=2.5.0,>=2.4 in a:\\anaconda3\\lib\\site-packages (from nbformat>=4.2.0->ipywidgets->viewscad) (3.0.2)\n",
      "Requirement already satisfied: jedi>=0.10 in a:\\anaconda3\\lib\\site-packages (from ipython>=4.0.0; python_version >= \"3.3\"->ipywidgets->viewscad) (0.15.1)\n",
      "Requirement already satisfied: setuptools>=18.5 in a:\\anaconda3\\lib\\site-packages (from ipython>=4.0.0; python_version >= \"3.3\"->ipywidgets->viewscad) (41.4.0)\n",
      "Requirement already satisfied: pickleshare in a:\\anaconda3\\lib\\site-packages (from ipython>=4.0.0; python_version >= \"3.3\"->ipywidgets->viewscad) (0.7.5)\n",
      "Requirement already satisfied: colorama; sys_platform == \"win32\" in a:\\anaconda3\\lib\\site-packages (from ipython>=4.0.0; python_version >= \"3.3\"->ipywidgets->viewscad) (0.4.1)\n",
      "Requirement already satisfied: decorator in a:\\anaconda3\\lib\\site-packages (from ipython>=4.0.0; python_version >= \"3.3\"->ipywidgets->viewscad) (4.4.0)\n",
      "Requirement already satisfied: backcall in a:\\anaconda3\\lib\\site-packages (from ipython>=4.0.0; python_version >= \"3.3\"->ipywidgets->viewscad) (0.1.0)\n",
      "Requirement already satisfied: six in a:\\anaconda3\\lib\\site-packages (from traitlets>=4.3.1->ipywidgets->viewscad) (1.12.0)\n",
      "Requirement already satisfied: traittypes>=0.2.0 in a:\\anaconda3\\lib\\site-packages (from ipydatawidgets>=1.1.1->pythreejs->viewscad) (0.2.1)\n",
      "Requirement already satisfied: json5 in a:\\anaconda3\\lib\\site-packages (from jupyterlab_server~=1.0.0->jupyterlab->viewscad) (0.8.5)\n",
      "Requirement already satisfied: MarkupSafe>=0.23 in a:\\anaconda3\\lib\\site-packages (from jinja2>=2.10->jupyterlab->viewscad) (1.1.1)\n",
      "Requirement already satisfied: python-dateutil>=2.1 in a:\\anaconda3\\lib\\site-packages (from jupyter_client->jupyter-console->jupyter->viewscad) (2.8.0)\n",
      "Requirement already satisfied: pywin32>=1.0; sys_platform == \"win32\" in a:\\anaconda3\\lib\\site-packages (from jupyter_client->jupyter-console->jupyter->viewscad) (223)\n",
      "Requirement already satisfied: wcwidth in a:\\anaconda3\\lib\\site-packages (from prompt_toolkit<2.1.0,>=2.0.0->jupyter-console->jupyter->viewscad) (0.1.7)\n",
      "Requirement already satisfied: webencodings in a:\\anaconda3\\lib\\site-packages (from bleach->nbconvert->jupyter->viewscad) (0.5.1)\n",
      "Requirement already satisfied: attrs>=17.4.0 in a:\\anaconda3\\lib\\site-packages (from jsonschema!=2.5.0,>=2.4->nbformat>=4.2.0->ipywidgets->viewscad) (19.2.0)\n",
      "Requirement already satisfied: pyrsistent>=0.14.0 in a:\\anaconda3\\lib\\site-packages (from jsonschema!=2.5.0,>=2.4->nbformat>=4.2.0->ipywidgets->viewscad) (0.15.4)\n",
      "Requirement already satisfied: parso>=0.5.0 in a:\\anaconda3\\lib\\site-packages (from jedi>=0.10->ipython>=4.0.0; python_version >= \"3.3\"->ipywidgets->viewscad) (0.5.1)\n",
      "Note: you may need to restart the kernel to use updated packages.\n"
     ]
    }
   ],
   "source": [
    "pip install viewscad\n"
   ]
  },
  {
   "cell_type": "code",
   "execution_count": 8,
   "metadata": {},
   "outputs": [
    {
     "data": {
      "application/vnd.jupyter.widget-view+json": {
       "model_id": "dd43a65ffe244df8872eb877f75c483c",
       "version_major": 2,
       "version_minor": 0
      },
      "text/plain": [
       "VBox(children=(HTML(value=''), Renderer(background='#cccc88', background_opacity=0.0, camera=PerspectiveCamera…"
      ]
     },
     "metadata": {},
     "output_type": "display_data"
    }
   ],
   "source": [
    "import viewscad\n",
    "r = viewscad.Renderer(openscad_exec='C:\\Program Files\\OpenSCAD\\openscad.exe')\n",
    "from solid import *\n",
    "from solid.utils import *\n",
    "\n",
    "c = rotate ([0,0,20]) ((rotate([10,0,0]) (rotate([0,0,30]) (cube(1)))))\n",
    "\n",
    "r.render(c)"
   ]
  },
  {
   "cell_type": "code",
   "execution_count": 9,
   "metadata": {},
   "outputs": [
    {
     "data": {
      "application/vnd.jupyter.widget-view+json": {
       "model_id": "557043d2e0054d7d981d731e5d635fce",
       "version_major": 2,
       "version_minor": 0
      },
      "text/plain": [
       "VBox(children=(HTML(value=''), Renderer(background='#cccc88', background_opacity=0.0, camera=PerspectiveCamera…"
      ]
     },
     "metadata": {},
     "output_type": "display_data"
    }
   ],
   "source": [
    "import viewscad\n",
    "r = viewscad.Renderer(openscad_exec='C:\\Program Files\\OpenSCAD\\openscad.exe')\n",
    "from solid import *\n",
    "from solid.utils import *\n",
    "\n",
    "c = translate ([5,5,0]) (rotate ([0,0,20]) ((rotate([10,0,0]) (rotate([0,0,30]) (cube(1))))))\n",
    "\n",
    "r.render(c)"
   ]
  },
  {
   "cell_type": "code",
   "execution_count": 11,
   "metadata": {},
   "outputs": [
    {
     "data": {
      "application/vnd.jupyter.widget-view+json": {
       "model_id": "0ff9ccc97ded4582b1073d1f6f334a0c",
       "version_major": 2,
       "version_minor": 0
      },
      "text/plain": [
       "VBox(children=(HTML(value=''), Renderer(background='#cccc88', background_opacity=0.0, camera=PerspectiveCamera…"
      ]
     },
     "metadata": {},
     "output_type": "display_data"
    },
    {
     "data": {
      "application/vnd.jupyter.widget-view+json": {
       "model_id": "43fce6bfec944ebd91e229ebc38adcee",
       "version_major": 2,
       "version_minor": 0
      },
      "text/plain": [
       "VBox(children=(HTML(value=''), Renderer(background='#cccc88', background_opacity=0.0, camera=PerspectiveCamera…"
      ]
     },
     "metadata": {},
     "output_type": "display_data"
    },
    {
     "data": {
      "application/vnd.jupyter.widget-view+json": {
       "model_id": "ddcab859691b40328f076df900778f58",
       "version_major": 2,
       "version_minor": 0
      },
      "text/plain": [
       "VBox(children=(HTML(value=''), Renderer(background='#cccc88', background_opacity=0.0, camera=PerspectiveCamera…"
      ]
     },
     "metadata": {},
     "output_type": "display_data"
    }
   ],
   "source": [
    "import viewscad\n",
    "r = viewscad.Renderer(openscad_exec='C:\\Program Files\\OpenSCAD\\openscad.exe')\n",
    "from solid import *\n",
    "from solid.utils import *\n",
    "\n",
    "M = [ [ 1  , 0.5  , 0  , 0   ],\n",
    "      [ 0  , 1  , 0, 0   ],  \n",
    "      [ 0  , 0  , 1  , 0   ],\n",
    "      [ 0  , 0  , 0  , 1   ] ] ;\n",
    "\n",
    "c = multmatrix (M)(cube(1))\n",
    "\n",
    "r.render(c)\n",
    "\n",
    "M = [ [ 1  , 0  , 0  , 0   ],\n",
    "      [ 0.5  , 1  , 0, 0   ],  \n",
    "      [ 0  , 0  , 1  , 0   ],\n",
    "      [ 0  , 0  , 0  , 1   ] ] ;\n",
    "\n",
    "c = multmatrix (M)(cube(1))\n",
    "\n",
    "r.render(c)\n",
    "\n",
    "M = [ [ 1  , 0  , 0  , 0   ],\n",
    "      [ 0  , 1  , 0, 0   ],  \n",
    "      [ 0  , 0.5  , 1  , 0   ],\n",
    "      [ 0  , 0  , 0  , 1   ] ] ;\n",
    "\n",
    "c = multmatrix (M)(cube(1))\n",
    "\n",
    "r.render(c)"
   ]
  },
  {
   "cell_type": "code",
   "execution_count": null,
   "metadata": {},
   "outputs": [],
   "source": []
  }
 ],
 "metadata": {
  "kernelspec": {
   "display_name": "Python 3",
   "language": "python",
   "name": "python3"
  },
  "language_info": {
   "codemirror_mode": {
    "name": "ipython",
    "version": 3
   },
   "file_extension": ".py",
   "mimetype": "text/x-python",
   "name": "python",
   "nbconvert_exporter": "python",
   "pygments_lexer": "ipython3",
   "version": "3.7.4"
  }
 },
 "nbformat": 4,
 "nbformat_minor": 2
}
